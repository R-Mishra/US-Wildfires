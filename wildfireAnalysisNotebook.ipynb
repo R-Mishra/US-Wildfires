{
 "cells": [
  {
   "cell_type": "code",
   "execution_count": 1,
   "metadata": {},
   "outputs": [
    {
     "name": "stderr",
     "output_type": "stream",
     "text": [
      "/Users/RSM/anaconda3/lib/python3.6/site-packages/IPython/core/interactiveshell.py:3057: DtypeWarning: Columns (8,10,11,12,13,14,15,16,17,18,35,37) have mixed types. Specify dtype option on import or set low_memory=False.\n",
      "  interactivity=interactivity, compiler=compiler, result=result)\n"
     ]
    }
   ],
   "source": [
    "import pandas as pd\n",
    "data = pd.read_csv(\"wildfireData.csv\")"
   ]
  },
  {
   "cell_type": "code",
   "execution_count": 31,
   "metadata": {},
   "outputs": [
    {
     "data": {
      "text/plain": [
       "Index(['OBJECTID', 'FOD_ID', 'FPA_ID', 'SOURCE_SYSTEM_TYPE', 'SOURCE_SYSTEM',\n",
       "       'NWCG_REPORTING_AGENCY', 'NWCG_REPORTING_UNIT_ID',\n",
       "       'NWCG_REPORTING_UNIT_NAME', 'SOURCE_REPORTING_UNIT',\n",
       "       'SOURCE_REPORTING_UNIT_NAME', 'LOCAL_FIRE_REPORT_ID',\n",
       "       'LOCAL_INCIDENT_ID', 'FIRE_CODE', 'FIRE_NAME',\n",
       "       'ICS_209_INCIDENT_NUMBER', 'ICS_209_NAME', 'MTBS_ID', 'MTBS_FIRE_NAME',\n",
       "       'COMPLEX_NAME', 'FIRE_YEAR', 'DISCOVERY_DATE', 'DISCOVERY_DOY',\n",
       "       'DISCOVERY_TIME', 'STAT_CAUSE_CODE', 'STAT_CAUSE_DESCR', 'CONT_DATE',\n",
       "       'CONT_DOY', 'CONT_TIME', 'FIRE_SIZE', 'FIRE_SIZE_CLASS', 'LATITUDE',\n",
       "       'LONGITUDE', 'OWNER_CODE', 'OWNER_DESCR', 'STATE', 'COUNTY',\n",
       "       'FIPS_CODE', 'FIPS_NAME', 'Shape'],\n",
       "      dtype='object')"
      ]
     },
     "execution_count": 31,
     "metadata": {},
     "output_type": "execute_result"
    }
   ],
   "source": [
    "data.columns\n"
   ]
  },
  {
   "cell_type": "code",
   "execution_count": 54,
   "metadata": {},
   "outputs": [
    {
     "name": "stdout",
     "output_type": "stream",
     "text": [
      "LOCAL_FIRE_REPORT_ID\n",
      "1459286\n",
      "\n",
      "\n",
      "LOCAL_INCIDENT_ID\n",
      "820821\n",
      "\n",
      "\n",
      "FIRE_CODE\n",
      "1555741\n",
      "\n",
      "\n",
      "FIRE_NAME\n",
      "960479\n",
      "\n",
      "\n",
      "ICS_209_INCIDENT_NUMBER\n",
      "1854748\n",
      "\n",
      "\n",
      "ICS_209_NAME\n",
      "1854748\n",
      "\n",
      "\n",
      "MTBS_ID\n",
      "1869462\n",
      "\n",
      "\n",
      "MTBS_FIRE_NAME\n",
      "1869462\n",
      "\n",
      "\n",
      "COMPLEX_NAME\n",
      "1875282\n",
      "\n",
      "\n",
      "DISCOVERY_TIME\n",
      "882638\n",
      "\n",
      "\n",
      "CONT_DATE\n",
      "891531\n",
      "\n",
      "\n",
      "CONT_DOY\n",
      "891531\n",
      "\n",
      "\n",
      "CONT_TIME\n",
      "972553\n",
      "\n",
      "\n",
      "COUNTY\n",
      "678148\n",
      "\n",
      "\n",
      "FIPS_CODE\n",
      "678148\n",
      "\n",
      "\n",
      "FIPS_NAME\n",
      "678148\n",
      "\n",
      "\n"
     ]
    }
   ],
   "source": [
    "x = data.isna().sum()\n",
    "for i in range(len(x)): \n",
    "    if (x[i] > 0):\n",
    "        print(\"{}\\n{}\\n\\n\".format(x.index[i],x[i]))"
   ]
  },
  {
   "cell_type": "code",
   "execution_count": 45,
   "metadata": {},
   "outputs": [
    {
     "data": {
      "text/plain": [
       "'FIRE_NAME'"
      ]
     },
     "execution_count": 45,
     "metadata": {},
     "output_type": "execute_result"
    }
   ],
   "source": [
    "x.index[13]"
   ]
  },
  {
   "cell_type": "code",
   "execution_count": 29,
   "metadata": {},
   "outputs": [
    {
     "data": {
      "text/plain": [
       "'Shape'"
      ]
     },
     "execution_count": 29,
     "metadata": {},
     "output_type": "execute_result"
    }
   ],
   "source": [
    "i"
   ]
  }
 ],
 "metadata": {
  "kernelspec": {
   "display_name": "Python 3",
   "language": "python",
   "name": "python3"
  },
  "language_info": {
   "codemirror_mode": {
    "name": "ipython",
    "version": 3
   },
   "file_extension": ".py",
   "mimetype": "text/x-python",
   "name": "python",
   "nbconvert_exporter": "python",
   "pygments_lexer": "ipython3",
   "version": "3.6.8"
  }
 },
 "nbformat": 4,
 "nbformat_minor": 2
}
